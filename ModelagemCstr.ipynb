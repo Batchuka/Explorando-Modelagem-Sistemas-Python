{
 "cells": [
  {
   "cell_type": "markdown",
   "metadata": {},
   "source": [
    "# Sobre a modelagem\n",
    "\n",
    "As bibliotecas *Numpy* e *MatPlotLib* devem ser importadas para que tenhamos métodos para calcular as equações e Plotar a dinâmica, respectivamente.\n",
    "\n",
    "O artigo apresenta a modelagem de um sistema CSTR através das seguintes equações:\n",
    "\n",
    "$$\n",
    "F_o(C_{Ao} - C_A) - VkC_A = 0\n",
    "$$ \n",
    "\n",
    "$$ \n",
    "\\rho C_pF_o(T_o-T_j) - \\lambda VkC_A - UA(T - T_j) = 0\n",
    "$$\n",
    "\n",
    "$$\n",
    "\\rho_j C_jF_j(T_{jo}-T_j)+UA(T - T_j)=0\n",
    "$$\n",
    "\n",
    "A resolução direta dessas equações não nos fornecerá todos os estados estacionários — como o próprio artigo argumenta —, mas bastará para os objetivos desta demonstração. \n",
    "\n",
    "Logo, o que faremos é:\n",
    "\n",
    "* Encontrar pelo menos uma solução de estado estacionário e;\n",
    "* Plotar a dinâmica do sistema utilizando método de Euler."
   ]
  },
  {
   "cell_type": "code",
   "execution_count": 1,
   "metadata": {},
   "outputs": [],
   "source": [
    "import numpy as np\n",
    "import matplotlib.pyplot as plt"
   ]
  },
  {
   "cell_type": "markdown",
   "metadata": {},
   "source": [
    "# Definindo nossas equações e problemas"
   ]
  },
  {
   "cell_type": "code",
   "execution_count": 2,
   "metadata": {},
   "outputs": [],
   "source": [
    "Dt = 0.01               # timestep Delta t\n",
    "Y_start = 20            # initial Y\n",
    "P_start = 20            # initial P\n",
    "t_start = 0             # starttime\n",
    "t_end = 60              # endtimen_steps = int(round((t_end-t_start)/Dt))    # number of timesteps"
   ]
  },
  {
   "cell_type": "markdown",
   "metadata": {},
   "source": [
    "# Estruturas de dados para armazenar os estados"
   ]
  },
  {
   "cell_type": "code",
   "execution_count": 3,
   "metadata": {},
   "outputs": [
    {
     "ename": "NameError",
     "evalue": "name 'n_steps' is not defined",
     "output_type": "error",
     "traceback": [
      "\u001b[1;31m---------------------------------------------------------------------------\u001b[0m",
      "\u001b[1;31mNameError\u001b[0m                                 Traceback (most recent call last)",
      "Cell \u001b[1;32mIn [3], line 1\u001b[0m\n\u001b[1;32m----> 1\u001b[0m Y_arr \u001b[39m=\u001b[39m np\u001b[39m.\u001b[39mzeros(n_steps \u001b[39m+\u001b[39m \u001b[39m1\u001b[39m)   \u001b[39m# create an array of zeros for Y\u001b[39;00m\n\u001b[0;32m      2\u001b[0m P_arr \u001b[39m=\u001b[39m np\u001b[39m.\u001b[39mzeros(n_steps \u001b[39m+\u001b[39m\u001b[39m1\u001b[39m)    \u001b[39m# create an array of zeros for P\u001b[39;00m\n\u001b[0;32m      3\u001b[0m t_arr \u001b[39m=\u001b[39m np\u001b[39m.\u001b[39mzeros(n_steps \u001b[39m+\u001b[39m \u001b[39m1\u001b[39m)   \u001b[39m# create an array of zeros for t\u001b[39;00m\n",
      "\u001b[1;31mNameError\u001b[0m: name 'n_steps' is not defined"
     ]
    }
   ],
   "source": [
    "Y_arr = np.zeros(n_steps + 1)   # create an array of zeros for Y\n",
    "P_arr = np.zeros(n_steps +1)    # create an array of zeros for P\n",
    "t_arr = np.zeros(n_steps + 1)   # create an array of zeros for t\n",
    "t_arr[0] = t_start              # add starttime to array\n",
    "Y_arr[0] = Y_start              # add initial value of Y to array\n",
    "P_arr[0] = P_start              # add initial value of P to array"
   ]
  },
  {
   "cell_type": "markdown",
   "metadata": {},
   "source": [
    "# Metodo númerico : Euler"
   ]
  },
  {
   "cell_type": "code",
   "execution_count": null,
   "metadata": {},
   "outputs": [],
   "source": [
    "for i in range (1, n_steps + 1):  \n",
    "   Y = Y_arr[i-1]\n",
    "   P = P_arr[i-1]\n",
    "   t = t_arr[i-1]\n",
    "   dYdt = -0.4*Y +0.02*P*Y          # calculate the derivative of Y\n",
    "   dPdt = 0.8*P - 0.01*P*P-0.1*P*Y  # calculate the derivative of Y\n",
    "   Y_arr[i] = Y + Dt*dYdt  # calc. Y at next timestep,add to array\n",
    "   P_arr[i] = P + Dt*dPdt  # calc. P at next timestep,add to array\n",
    "   t_arr[i] = t + Dt       # add new value of t to array"
   ]
  },
  {
   "cell_type": "markdown",
   "metadata": {},
   "source": [
    "# Plot da dinâmica "
   ]
  },
  {
   "cell_type": "code",
   "execution_count": null,
   "metadata": {},
   "outputs": [],
   "source": [
    "fig = plt.figure()                                  # create figure\n",
    "plt.plot(t_arr, Y_arr, linewidth = 4, label = 'Y')    # plot Y to t \n",
    "plt.plot(t_arr, P_arr, linewidth = 4, label = 'P')    # plot P to tplt.title('Title', fontsize = 12)    # add some title to your plot\n",
    "plt.xlabel('t (in seconds)', fontsize = 12)\n",
    "plt.ylabel('Y(t), P(t)', fontsize = 12)\n",
    "plt.xticks(fontsize = 12)\n",
    "plt.yticks(fontsize = 12)\n",
    "plt.grid(True)                        # show grid\n",
    "plt.axis([t_start, t_end, 0, 50])     # show axes measures\n",
    "plt.legend()\n",
    "plt.show()"
   ]
  }
 ],
 "metadata": {
  "kernelspec": {
   "display_name": "Python 3.10.7 64-bit",
   "language": "python",
   "name": "python3"
  },
  "language_info": {
   "codemirror_mode": {
    "name": "ipython",
    "version": 3
   },
   "file_extension": ".py",
   "mimetype": "text/x-python",
   "name": "python",
   "nbconvert_exporter": "python",
   "pygments_lexer": "ipython3",
   "version": "3.10.7"
  },
  "orig_nbformat": 4,
  "vscode": {
   "interpreter": {
    "hash": "4f23259cc4a989149ceb318427fe09b9530d16c787809bc42dd4da82aeda726e"
   }
  }
 },
 "nbformat": 4,
 "nbformat_minor": 2
}
