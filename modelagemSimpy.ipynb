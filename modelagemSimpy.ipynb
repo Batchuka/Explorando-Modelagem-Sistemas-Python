{
 "cells": [
  {
   "cell_type": "markdown",
   "metadata": {},
   "source": [
    "# Estado Estacionário"
   ]
  },
  {
   "cell_type": "markdown",
   "metadata": {},
   "source": [
    "## Sobre a modelagem\n",
    "\n",
    "As bibliotecas *Numpy* e *MatPlotLib* devem ser importadas para que tenhamos métodos para calcular as equações e Plotar a dinâmica, respectivamente.\n",
    "\n",
    "O artigo apresenta a modelagem de um sistema CSTR através das seguintes equações, no estado estacionário:\n",
    "\n",
    "$$\n",
    "F_o(C_{Ao} - C_A) - VkC_A = 0 \n",
    "$$ \n",
    "\n",
    "$$ \n",
    "\\rho C_pF_o(T_o-T_j) - \\lambda VkC_A - UA(T - T_j) = 0\n",
    "$$\n",
    "\n",
    "$$\n",
    "\\rho_j C_jF_j(T_{jo}-T_j)+UA(T - T_j) = 0\n",
    "$$\n",
    "\n",
    "Ocorre que $k = \\alpha e^{E/RT}$ , o que nos leva a reescrever as duas primeiras equações como:\n",
    "\n",
    "$$\n",
    "F_o(C_{Ao} - C_A) - V \\alpha e^{E/RT} C_A = 0\n",
    "$$ \n",
    "\n",
    "$$ \n",
    "\\rho C_pF_o(T_o-T_j) - \\lambda V \\alpha e^{E/RT} C_A - UA(T - T_j) = 0\n",
    "$$\n",
    "\n",
    "Fazemos isso para obter três equações e três variáveis para as quais devemos resolver essas equações, a saber: $T$ , $C_j$ e $T_j$. Sendo assim, temos um sistema de equações não lineares. \n",
    "\n",
    "É preciso notar que essas equações podem ter múltiplas soluções. Sendo assim, a resolução direta dessas equações não nos fornecerá todos os estados estacionários — como o próprio artigo argumenta —, mas bastará para os objetivos desta demonstração. Além disso, os estados estacionários dependem da temperatura de entrada do fluido, que vamos tratar como uma constate $T_o = 530°C$\n",
    "\n",
    "Logo, o que faremos é: *Encontrar pelo menos uma solução de estado estacionário*"
   ]
  },
  {
   "cell_type": "markdown",
   "metadata": {},
   "source": [
    "## Bibliotecas"
   ]
  },
  {
   "cell_type": "code",
   "execution_count": null,
   "metadata": {},
   "outputs": [],
   "source": [
    "import numpy as np\n",
    "from matplotlib import pyplot as plt\n",
    "from scipy.optimize import fsolve\n",
    "from math import exp"
   ]
  },
  {
   "cell_type": "markdown",
   "metadata": {},
   "source": [
    "## Parâmetros"
   ]
  },
  {
   "cell_type": "code",
   "execution_count": null,
   "metadata": {},
   "outputs": [],
   "source": [
    "# VARIAVEIS DO REATOR\n",
    "\n",
    "CAo    = 0.5    # Concentração do fluido A na entrada;\n",
    "rho    = 50.0    # Densidade do fluido A;\n",
    "U      = 150.0    # Energia;\n",
    "A      = 250.0    # Área do reator;\n",
    "V      = 48.0    # Volume interno do Reator;\n",
    "Fi     = 40.0    # Fluxo na saída do reator;\n",
    "Fo     = 40.0    # Fluxo na entrada do reator;\n",
    "To     = 530.0\n",
    "\n",
    "# VARIAVEIS DA CAMISA\n",
    "\n",
    "Fj     = 49.9    # Fluxo da camisa;\n",
    "Vj     = 3.85    # Volume da camisa;\n",
    "Cj     = 1.0       # Concentração do fluido refrigerante\n",
    "Cp     = 0.75\n",
    "rhoj   = 62.3    # Densidade do fluido refrigerante;\n",
    "Toj    = 530.0\n",
    "\n",
    "# CONSTANTES DA REAÇÂO\n",
    "\n",
    "lbd     = -3e4     \n",
    "E       = 3e4        # activation energy J/gmol\n",
    "R       = 1.99      # gas constant J/gmol/K\n",
    "k0      = 7.8e10    # Arrhenius rate constant 1/min"
   ]
  },
  {
   "cell_type": "markdown",
   "metadata": {},
   "source": [
    "## Encontrando o Estado estacionário"
   ]
  },
  {
   "cell_type": "code",
   "execution_count": null,
   "metadata": {},
   "outputs": [],
   "source": [
    "# Cálculo da taxa de reação de Arrhenius\n",
    "def k(T):\n",
    "    return k0 * np.exp(-E/R/T)\n",
    "\n",
    "# Função que implementa o sistema de equações do nosso problema\n",
    "def SistemaEquacoes(vars):\n",
    "    T, Tj, Ca = vars\n",
    "    eq1 = Fo * (CAo - Ca) - V * k(T) * Ca\n",
    "    eq2 = rho * Cp * Fo * (To - T) - lbd * k(T) * Ca - U * A * (T - Tj)\n",
    "    eq3 = rhoj * Cj * Fj * (Toj-Tj) + U * A * (T - Tj)\n",
    "    return [eq1, eq2, eq3]\n",
    "\n",
    "    # Condições iniciais\n",
    "T      = 500.0    # Temperatura interna do reator;\n",
    "Tj     = 500.0    # Temperatura interna do reator;\n",
    "Ca     = 0.5    # Concentração do fluido A na Saída;\n",
    "\n",
    "# Solution, infodict, ier, mesg = fsolve(SistemaEquacoes, [T, Tj, Ca], full_output=True)\n",
    "print(fsolve(SistemaEquacoes, [T, Tj, Ca], full_output=True))"
   ]
  },
  {
   "cell_type": "markdown",
   "metadata": {},
   "source": [
    "# Dinâmica"
   ]
  },
  {
   "cell_type": "markdown",
   "metadata": {},
   "source": [
    "Faremos o cálculo pelo método de Euler, para isso é necessário arrumar as equações de modo que a dinâmica (diferenciais) fiquem de um lado isolados. Ou seja:\n",
    "\n",
    "$$\n",
    "\\frac{dC_A}{dt}= \\frac{F_o}{V}(C_{Ao} - C_A) - kC_A\n",
    "$$ \n",
    "\n",
    "$$ \n",
    "\\frac{dT}{dt}= \\frac{F_o}{V}(T_o-T) - \\frac{C_A}{\\rho C_p}\\lambda k - \\frac{UA}{\\rho C_p V}(T - T_j)\n",
    "$$\n",
    "\n",
    "$$\n",
    "\\frac{dT_j}{dt}= \\frac{F_j}{V_j}(T_{jo}-T_j) + \\frac{UA}{\\rho_j C_j V_j} (T - T_j)\n",
    "$$\n",
    "\n"
   ]
  },
  {
   "cell_type": "markdown",
   "metadata": {},
   "source": [
    "## Bibliotecas"
   ]
  },
  {
   "cell_type": "code",
   "execution_count": 9,
   "metadata": {},
   "outputs": [],
   "source": [
    "import numpy as np\n",
    "from matplotlib import pyplot as plt\n",
    "from scipy.integrate import odeint\n",
    "from math import exp"
   ]
  },
  {
   "cell_type": "markdown",
   "metadata": {},
   "source": [
    "## Parâmetros"
   ]
  },
  {
   "cell_type": "code",
   "execution_count": 10,
   "metadata": {},
   "outputs": [],
   "source": [
    "    # VARIAVEIS DO REATOR\n",
    "\n",
    "CAo    = 0.5    # Concentração do fluido A na entrada;\n",
    "rho    = 50.0    # Densidade do fluido A;\n",
    "_u      = 150.0    # Energia;\n",
    "_a      = 250.0    # Área do reator;\n",
    "_v      = 48.0    # Volume interno do Reator;\n",
    "Fi     = 40.0    # Fluxo na saída do reator;\n",
    "Fo     = 40.0    # Fluxo na entrada do reator;\n",
    "To     = 530.0\n",
    "lbd     = -3e4 \n",
    "\n",
    "    # VARIAVEIS DA CAMISA\n",
    "\n",
    "Fj     = 49.9    # Fluxo da camisa;\n",
    "Vj     = 3.85    # Volume da camisa;\n",
    "Cj     = 1.0       # Concentração do fluido refrigerante\n",
    "Cp     = 0.75\n",
    "rhoj   = 62.3    # Densidade do fluido refrigerante;\n",
    "Toj    = 530.0\n"
   ]
  },
  {
   "cell_type": "markdown",
   "metadata": {},
   "source": [
    "## Simulando a dinâmica"
   ]
  },
  {
   "cell_type": "code",
   "execution_count": null,
   "metadata": {},
   "outputs": [],
   "source": [
    "# Cálculo da taxa de reação de Arrhenius\n",
    "def k(T):\n",
    "    E       = 3e4        # activation energy J/gmol\n",
    "    R       = 1.99      # gas constant J/gmol/K\n",
    "    k0      = 7.8e10    # Arrhenius rate constant 1/min\n",
    "    return k0 * np.exp(-E/R/T)\n",
    "\n",
    "def odes(x,t):\n",
    "\n",
    "    Ca  = x[0] # Concentração interna do reator;\n",
    "    Tj  = x[1] # Temperatura interna jaqueta;\n",
    "    T   = x[2] # Temperatura interna do reator;\n",
    "\n",
    "    # if T < 800:\n",
    "    #     ko = k(T)\n",
    "    # else:\n",
    "    #     ko = 0.1\n",
    "    ko = k(T)\n",
    "\n",
    "    dCadt   = (Fo/_v) * (CAo - Ca) - (ko * Ca)\n",
    "    dTjdt   = (Fo/_v) * (To - T) - (Ca * lbd * ko)/(rho * Cp) - (_u * _a) * (T - Tj)/(rho * Cp * _v)\n",
    "    dTdt    = (Fj/Vj) * (Toj - Tj) + (_u * _a) * (T - Tj)/(rhoj * Cj * Vj)\n",
    "\n",
    "    return dCadt, dTjdt, dTdt\n",
    "\n",
    "# y, infodict = odeint(odes, x0, t, full_output = True)\n",
    "# print(infodict[\"leniw\"])\n",
    "\n",
    "x0 = [50,50,.3]\n",
    "t = np.linspace(0,15,1000)\n",
    "x = odeint(odes, x0, t)\n",
    "print(x)\n",
    "\n",
    "A = x[:,0]\n",
    "B = x[:,1]\n",
    "C = x[:,2]\n",
    "\n",
    "plt.plot(t,A)\n",
    "plt.plot(t,B)\n",
    "plt.plot(t,C)\n",
    "plt.show()    \n"
   ]
  },
  {
   "cell_type": "markdown",
   "metadata": {},
   "source": [
    "# EXTRA: Dinâmica através do método de Euler"
   ]
  },
  {
   "cell_type": "code",
   "execution_count": 35,
   "metadata": {},
   "outputs": [
    {
     "name": "stdout",
     "output_type": "stream",
     "text": [
      "(501,)\n"
     ]
    },
    {
     "data": {
      "image/png": "[encoded data removed]",
      "text/plain": [
       "<Figure size 640x480 with 1 Axes>"
      ]
     },
     "metadata": {},
     "output_type": "display_data"
    },
    {
     "data": {
      "image/png": "[encoded data removed]",
      "text/plain": [
       "<Figure size 640x480 with 1 Axes>"
      ]
     },
     "metadata": {},
     "output_type": "display_data"
    }
   ],
   "source": [
    "import numpy as np\n",
    "from matplotlib import pyplot as plt\n",
    "from scipy.integrate import odeint\n",
    "from math import exp\n",
    "\n",
    "    # VARIAVEIS DO REATOR\n",
    "\n",
    "CAo    = 0.5    # Concentração do fluido A na entrada;\n",
    "rho    = 50.0    # Densidade do fluido A;\n",
    "_u      = 150.0    # Energia;\n",
    "_a      = 250.0    # Área do reator;\n",
    "_v      = 48.0    # Volume interno do Reator;\n",
    "Fo     = 40.0    # Fluxo na entrada do reator;\n",
    "To     = 530.0\n",
    "lbd     = -3e4 \n",
    "\n",
    "    # VARIAVEIS DA CAMISA\n",
    "\n",
    "Fj     = 49.9    # Fluxo da camisa;\n",
    "Vj     = 3.85    # Volume da camisa;\n",
    "Cj     = 1.0       # Concentração do fluido refrigerante\n",
    "Cp     = 0.75\n",
    "rhoj   = 62.3    # Densidade do fluido refrigerante;\n",
    "Toj    = 530.0\n",
    "\n",
    "T   = 500\n",
    "Tj  = 500\n",
    "Ca  = 1\n",
    "\n",
    "Dt = 0.01\n",
    "t_start = 0             # starttime\n",
    "t_end = 5              # endtime\n",
    "n_steps = int(round((t_end-t_start)/Dt))    # number of timesteps\n",
    "\n",
    "T_arr = np.zeros(n_steps + 1)   # create an array of zeros for Y\n",
    "Tj_arr = np.zeros(n_steps +1)   # create an array of zeros for P\n",
    "Ca_arr = np.zeros(n_steps +1)   # create an array of zeros for P\n",
    "\n",
    "t_arr = np.zeros(n_steps + 1)   # create an array of zeros for t\n",
    "t_arr[0] = t_start              # add starttime to array\n",
    "T_arr[0] = T                    # add initial value of Y to array\n",
    "Tj_arr[0] = Tj                  # add initial value of P to array\n",
    "Ca_arr[0] = Ca                  # add initial value of P to array\n",
    "\n",
    "def k(T):\n",
    "    E       = 3e4        # activation energy J/gmol\n",
    "    R       = 1.99      # gas constant J/gmol/K\n",
    "    alfa      = 7.8e10    # Arrhenius rate constant 1/min\n",
    "    return alfa * np.exp(-E/R/T)\n",
    "\n",
    "\n",
    "# Euler's method\n",
    "for i in range (1, n_steps + 1):  \n",
    "   T = T_arr[i-1]\n",
    "   Tj = Tj_arr[i-1]\n",
    "   Ca = Ca_arr[i-1]\n",
    "   dCadt  = (Fo/_v) * (CAo - Ca) - (k(T) * Ca)\n",
    "   dTdt   = (Fo/_v) * (To - T) - (Ca * lbd * k(T))/(rho * Cp) - (_u * _a) * (T - Tj)/(rho * Cp * _v)\n",
    "   dTjdt  = (Fj/Vj) * (Toj - Tj) + (_u * _a) * (T - Tj)/(rhoj * Cj * Vj)\n",
    "   T_arr[i] = T + Dt*dTdt  # calc. Y at next timestep,add to array\n",
    "   Tj_arr[i] = Tj + Dt*dTjdt  # calc. P at next timestep,add to array\n",
    "   Ca_arr[i] = Ca + Dt*dCadt  # add new value of t to array\n",
    "\n",
    "print(Ca_arr.shape)\n",
    "\n",
    "t = np.linspace(0,50,501)\n",
    "\n",
    "plt.plot(t,T_arr,label='dT')\n",
    "plt.plot(t,Tj_arr,label='dTj')\n",
    "plt.legend()\n",
    "plt.xlabel(\"Tempo (s)\")\n",
    "plt.ylabel(\"Temperatura\")\n",
    "plt.show()\n",
    "\n",
    "plt.plot(t,Ca_arr,label='dCa')\n",
    "plt.legend()\n",
    "plt.xlabel(\"Tempo (hr)\")\n",
    "plt.ylabel(\"Concentração A\")\n",
    "plt.show()\n",
    "plt.show()\n",
    "\n",
    "# plotting the result\n",
    "# fig = plt.figure()                                  # create figure\n",
    "# plt.plot(t_arr, T_arr, linewidth = 4, label = 'Y')    # plot Y to t \n",
    "# plt.plot(t_arr, Tj_arr, linewidth = 4, label = 'P')    # plot P to t\n",
    "# plt.plot(t_arr, Ca_arr, linewidth = 4, label = 'P')    # plot P to t\n",
    "\n",
    "# plt.title('Title', fontsize = 12)    # add some title to your plot\n",
    "# plt.xlabel('t (in seconds)', fontsize = 12)\n",
    "# plt.ylabel('Y(t), P(t)', fontsize = 12)\n",
    "\n",
    "# plt.xticks(fontsize = 12)\n",
    "# plt.yticks(fontsize = 12)\n",
    "# plt.grid(True)                        # show grid\n",
    "# plt.axis([t_start, t_end, 0, 10])     # show axes measures\n",
    "# plt.legend()\n",
    "# plt.show()"
   ]
  }
 ],
 "metadata": {
  "kernelspec": {
   "display_name": "Python 3.10.7 64-bit",
   "language": "python",
   "name": "python3"
  },
  "language_info": {
   "codemirror_mode": {
    "name": "ipython",
    "version": 3
   },
   "file_extension": ".py",
   "mimetype": "text/x-python",
   "name": "python",
   "nbconvert_exporter": "python",
   "pygments_lexer": "ipython3",
   "version": "3.10.7"
  },
  "orig_nbformat": 4,
  "vscode": {
   "interpreter": {
    "hash": "4f23259cc4a989149ceb318427fe09b9530d16c787809bc42dd4da82aeda726e"
   }
  }
 },
 "nbformat": 4,
 "nbformat_minor": 2
}
