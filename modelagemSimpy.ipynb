{
 "cells": [
  {
   "cell_type": "markdown",
   "metadata": {},
   "source": [
    "# Sobre a modelagem\n",
    "\n",
    "As bibliotecas *Numpy* e *MatPlotLib* devem ser importadas para que tenhamos métodos para calcular as equações e Plotar a dinâmica, respectivamente.\n",
    "\n",
    "O artigo apresenta a modelagem de um sistema CSTR através das seguintes equações, no estado estacionário:\n",
    "\n",
    "$$\n",
    "F_o(C_{Ao} - C_A) - VkC_A = 0 \n",
    "$$ \n",
    "\n",
    "$$ \n",
    "\\rho C_pF_o(T_o-T_j) - \\lambda VkC_A - UA(T - T_j) = 0\n",
    "$$\n",
    "\n",
    "$$\n",
    "\\rho_j C_jF_j(T_{jo}-T_j)+UA(T - T_j) = 0\n",
    "$$\n",
    "\n",
    "Ocorre que $k = \\alpha e^{E/RT}$ , o que nos leva a reescrever as duas primeiras equações como:\n",
    "\n",
    "$$\n",
    "F_o(C_{Ao} - C_A) - V \\alpha e^{E/RT} C_A = 0\n",
    "$$ \n",
    "\n",
    "$$ \n",
    "\\rho C_pF_o(T_o-T_j) - \\lambda V \\alpha e^{E/RT} C_A - UA(T - T_j) = 0\n",
    "$$\n",
    "\n",
    "Fazemos isso para obter três equações e três variáveis para as quais devemos resolver essas equações, a saber: $T$ , $C_j$ e $T_j$. Sendo assim, temos um sistema de equações não lineares. \n",
    "\n",
    "É preciso notar que essas equações podem ter múltiplas soluções. Sendo assim, a resolução direta dessas equações não nos fornecerá todos os estados estacionários — como o próprio artigo argumenta —, mas bastará para os objetivos desta demonstração. Além disso, os estados estacionários dependem da temperatura de entrada do fluido, que vamos tratar como uma constate $T_o = 530°C$\n",
    "\n",
    "Logo, o que faremos é:\n",
    "\n",
    "* Encontrar pelo menos uma solução de estado estacionário e;\n",
    "* Plotar a dinâmica do sistema utilizando método de Euler."
   ]
  },
  {
   "cell_type": "code",
   "execution_count": 2,
   "metadata": {},
   "outputs": [],
   "source": [
    "from scipy.optimize import fsolve\n",
    "from math import exp\n",
    "import numpy as np\n",
    "import matplotlib.pyplot as plt"
   ]
  },
  {
   "cell_type": "markdown",
   "metadata": {},
   "source": [
    "# Estacionário"
   ]
  },
  {
   "cell_type": "code",
   "execution_count": 26,
   "metadata": {},
   "outputs": [
    {
     "name": "stdout",
     "output_type": "stream",
     "text": [
      "0.0 -1125000.0 1218263.1\n",
      "0.0 -1125000.0 1218263.1\n",
      "0.0 -1125000.0 1218263.1\n",
      "0.0 -1125000.3080070019 1218263.3961605788\n",
      "0.0 -1124999.7206032276 1218262.7974410863\n",
      "-2.980232238769531e-07 -1125000.0 1218263.1\n",
      "-2.3283153183228933e-10 2.4556356947869062e-06 -2.6592092035571113e-06\n",
      "0.0 0.0 0.0\n"
     ]
    },
    {
     "data": {
      "text/plain": [
       "array([5.3e+02, 5.3e+02, 5.0e-01])"
      ]
     },
     "execution_count": 26,
     "metadata": {},
     "output_type": "execute_result"
    }
   ],
   "source": [
    "# VARIAVEIS DO REATOR\n",
    "\n",
    "CAo    = 0.5    # Concentração do fluido A na entrada;\n",
    "rho    = 50    # Densidade do fluido A;\n",
    "U      = 150    # Energia;\n",
    "A      = 250    # Área do reator;\n",
    "V      = 48    # Volume interno do Reator;\n",
    "Fi     = 40    # Fluxo na saída do reator;\n",
    "Fo     = 40    # Fluxo na entrada do reator;\n",
    "To     = 530\n",
    "\n",
    "# VARIAVEIS DA CAMISA\n",
    "\n",
    "Fj     = 49.9    # Fluxo da camisa;\n",
    "Vj     = 3.85    # Volume da camisa;\n",
    "Cj     = 1       # Concentração do fluido refrigerante\n",
    "Cp     = 0.75\n",
    "rhoj   = 62.3    # Densidade do fluido refrigerante;\n",
    "Toj    = 530\n",
    "\n",
    "# CONSTANTES DA REAÇÂO\n",
    "\n",
    "lbd     = -30000     \n",
    "alfa    = 78000000000\n",
    "E       = 30000\n",
    "R       = 1.99\n",
    "\n",
    "# VARIAVEIS QUE PROCURAMOS\n",
    "\n",
    "T      = 530    # Temperatura interna do reator;\n",
    "Tj     = 500    # Temperatura interna do reator;\n",
    "Ca     = 0.5    # Concentração do fluido A na Saída;\n",
    "\n",
    "\n",
    "\n",
    "import numpy as np\n",
    "from matplotlib import pyplot as plt\n",
    "from scipy.optimize import fsolve\n",
    "from math import exp\n",
    "\n",
    "Ea = 30000     # activation energy J/gmol\n",
    "R = 1.99      # gas constant J/gmol/K\n",
    "k0 = 7.8e10    # Arrhenius rate constant 1/min\n",
    "\n",
    "# Arrhenius rate expression\n",
    "def k(T):\n",
    "    return k0*np.exp(-Ea/R/T)\n",
    "\n",
    "\n",
    "def SistemaEquacoes(vars):\n",
    "    T, Tj, Ca = vars\n",
    "    k = alfa*np.exp(-E/R*T)\n",
    "    eq1 = Fo * (CAo - Ca) - V * k * Ca\n",
    "    eq2 = rho * Cp * Fo * (To - T) - lbd * k * Ca - U * A * (T - Tj)\n",
    "    eq3 = rhoj * Cj * Fj * (Toj-Tj) + U * A * (T - Tj)\n",
    "    print(eq1, eq2, eq3)\n",
    "    return [eq1, eq2, eq3]\n",
    "\n",
    "\n",
    "fsolve(SistemaEquacoes, [T, Tj, Ca])"
   ]
  },
  {
   "cell_type": "markdown",
   "metadata": {},
   "source": [
    "# Dinâmica"
   ]
  },
  {
   "cell_type": "code",
   "execution_count": 27,
   "metadata": {},
   "outputs": [
    {
     "name": "stdout",
     "output_type": "stream",
     "text": [
      "0.0 -1125000.0 1218263.1\n",
      "0.0 -1125000.0 1218263.1\n",
      "0.0 -1125000.0 1218263.1\n",
      "0.0 -1125000.3080070019 1218263.3961605788\n",
      "0.0 -1124999.7206032276 1218262.7974410863\n",
      "-2.980232238769531e-07 -1125000.0 1218263.1\n",
      "-2.3283153183228933e-10 2.4556356947869062e-06 -2.6592092035571113e-06\n",
      "0.0 0.0 0.0\n"
     ]
    },
    {
     "data": {
      "text/plain": [
       "array([5.3e+02, 5.3e+02, 5.0e-01])"
      ]
     },
     "execution_count": 27,
     "metadata": {},
     "output_type": "execute_result"
    }
   ],
   "source": [
    "def SistemaEquacoesSemK(vars):\n",
    "    T, Tj, Ca = vars\n",
    "    eq1 = Fo * (CAo - Ca)\n",
    "    eq2 = rho * Cp * Fo * (To - T) - U * A * (T - Tj)\n",
    "    eq3 = rhoj * Cj * Fj * (Toj-Tj) + U * A * (T - Tj)\n",
    "    print(eq1, eq2, eq3)\n",
    "    return [eq1, eq2, eq3]\n",
    "\n",
    "fsolve(SistemaEquacoes, [T, Tj, Ca])\n",
    "\n",
    "# T = np.linspace(0, 700)\n",
    "# plt.plot(T, )\n",
    "# plt.xlabel('Absolute Temperature [K]')\n",
    "# plt.ylabel('Rate Constant [1/min]')\n",
    "# plt.title('Arrenhius Rate Constant')"
   ]
  }
 ],
 "metadata": {
  "kernelspec": {
   "display_name": "Python 3.10.7 64-bit",
   "language": "python",
   "name": "python3"
  },
  "language_info": {
   "codemirror_mode": {
    "name": "ipython",
    "version": 3
   },
   "file_extension": ".py",
   "mimetype": "text/x-python",
   "name": "python",
   "nbconvert_exporter": "python",
   "pygments_lexer": "ipython3",
   "version": "3.10.7"
  },
  "orig_nbformat": 4,
  "vscode": {
   "interpreter": {
    "hash": "4f23259cc4a989149ceb318427fe09b9530d16c787809bc42dd4da82aeda726e"
   }
  }
 },
 "nbformat": 4,
 "nbformat_minor": 2
}
